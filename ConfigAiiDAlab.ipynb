{
 "cells": [
  {
   "cell_type": "markdown",
   "id": "b720deda",
   "metadata": {},
   "source": [
    "## MAKE SURE YOU UPDATED your ssh key"
   ]
  },
  {
   "cell_type": "code",
   "execution_count": 1,
   "id": "157ad13a",
   "metadata": {},
   "outputs": [],
   "source": [
    "import os\n",
    "import subprocess\n",
    "from datetime import datetime"
   ]
  },
  {
   "cell_type": "code",
   "execution_count": 2,
   "id": "183d9179",
   "metadata": {},
   "outputs": [],
   "source": [
    "cscs_username = 'cpi' # replace 'someuser' with your CSCS 'username'\n",
    "cscs_account = 's1267'\n",
    "new_host_label = 'daint.alps'\n",
    "remotehost = \"daint.alps.cscs.ch\"  # Ensure this is the correct hostname"
   ]
  },
  {
   "cell_type": "code",
   "execution_count": 3,
   "id": "c33ca4c3",
   "metadata": {},
   "outputs": [],
   "source": [
    "alps_files = \"/home/jovyan/aiidalab-alps-files\"\n",
    "config_path = f\"/home/jovyan/.ssh/config\"\n",
    "config_source = f\"/home/jovyan/aiidalab-alps-files/config\"\n",
    "config_without_ela = f\"/home/jovian/aiidalab-alps-files/config_without_ela\""
   ]
  },
  {
   "cell_type": "code",
   "execution_count": 4,
   "id": "f5056740",
   "metadata": {},
   "outputs": [],
   "source": [
    "#repo_url=\"https://github.com/nanotech-empa/aiidalab-alps-files.git\"  # git repository with files for ALPS\n",
    "mydir = \"/home/jovyan/\"  # Directory containing the repo\n",
    "repo_name = \"aiidalab-alps-files\"\n",
    "repo_path = os.path.join(mydir, repo_name)\n",
    "\n",
    "#if not os.path.isdir(repo_path):  # Check if the directory exists\n",
    "#    print(f\"Cloning {repo_url} into {repo_path}...\")\n",
    "#    subprocess.run(f\"cd {mydir} && git clone {repo_url}\", shell=True, check=True)\n",
    "#else:\n",
    "#    print(f\"Repository {repo_name} exists, pulling latest changes...\")\n",
    "#    subprocess.run(f\"cd {repo_path} && git pull\", shell=True, check=True)"
   ]
  },
  {
   "cell_type": "code",
   "execution_count": 5,
   "id": "4d07a50b",
   "metadata": {},
   "outputs": [],
   "source": [
    "# update the config file in .ssh and set teh correct user in the .yml files\n",
    "relabeled_host = datetime.now().strftime(\"Used_till_%Y%m%d%H%M\")+'_'+new_host_label\n",
    "\n",
    "# set .ssh/config file\n",
    "config_command = f\"\"\"\n",
    "if grep -q 'daint.alps.cscs.ch' {config_path} 2>/dev/null; then\n",
    "    echo 'No changes needed for .ssh/config: daint.alps.cscs.ch already present in {config_path}';\n",
    "else\n",
    "    if [ ! -f {config_path} ]; then\n",
    "        cp {config_source} {config_path};\n",
    "    else\n",
    "        if grep -q 'ela' {config_path}; then\n",
    "            cat {config_without_ela} {config_path} > {config_path}.tmp && mv {config_path}.tmp {config_path};\n",
    "        else\n",
    "            cat {config_source} {config_path} > {config_path}.tmp && mv {config_path}.tmp {config_path};\n",
    "        fi\n",
    "    fi\n",
    "    sed -i 's/cscsusername/{cscs_username}/g' {config_path}\n",
    "    echo 'Updated {config_path} successfully!';\n",
    "fi\n",
    "sed -i 's/cscsusername/{cscs_username}/g' {alps_files}/alps_setup.yml\n",
    "sed -i 's/cscsaccount/{cscs_account}/g' {alps_files}/alps_setup.yml\n",
    "sed -i 's/cscsusername/{cscs_username}/g' {alps_files}/alps_config.yml\n",
    "sed -i 's/cscsusername/{cscs_username}/g' {alps_files}/cp2k.yml\n",
    "\"\"\"\n",
    "# relabel old computers\n",
    "relabel_command = f\"\"\"if verdi computer list  | grep -q '{new_host_label}'; then \n",
    "    verdi computer relabel {new_host_label} {relabeled_host} && \n",
    "    verdi computer disable {relabeled_host} aiida@localhost; \n",
    "fi\"\"\"\n",
    "\n",
    "# Hide old codes that will be already @relabeled_host \n",
    "hide_code_command = f\"verdi code list | awk 'NR>2 {{print $1}}' | grep '@{relabeled_host}' | xargs -r -I {{}} verdi code hide {{}}\"\n",
    "\n",
    "# setup ALPS\n",
    "alps_setup_command = f\"verdi computer setup --config alps_setup.yml\"\n",
    "alps_config_command = f\"verdi computer configure core.ssh daint.alps --config alps_config.yml\""
   ]
  },
  {
   "cell_type": "markdown",
   "id": "4a5eac39",
   "metadata": {},
   "source": [
    "## set .ssh/config file, relable old daint.alps, hide old codes_at_daint.alps"
   ]
  },
  {
   "cell_type": "code",
   "execution_count": 6,
   "id": "45b8559e",
   "metadata": {},
   "outputs": [
    {
     "name": "stdout",
     "output_type": "stream",
     "text": [
      "No changes needed for .ssh/config: daint.alps.cscs.ch already present in /home/jovyan/.ssh/config\n",
      "\n",
      "\n",
      "Success: Computer 'daint.alps' relabeled to 'Used_till_202502081949_daint.alps'\n",
      "Report: Computer 'Used_till_202502081949_daint.alps' disabled for user Giuseppe Verdi (aiida@localhost).\n",
      "\n",
      "--- Logging error ---\n",
      "Traceback (most recent call last):\n",
      "  File \"/opt/conda/lib/python3.9/site-packages/aiida/cmdline/utils/log.py\", line 38, in emit\n",
      "    click.echo(msg, err=err, nl=nl)\n",
      "  File \"/opt/conda/lib/python3.9/site-packages/click/utils.py\", line 319, in echo\n",
      "    file.flush()\n",
      "BrokenPipeError: [Errno 32] Broken pipe\n",
      "Call stack:\n",
      "  File \"/opt/conda/bin/verdi\", line 10, in <module>\n",
      "    sys.exit(verdi())\n",
      "  File \"/opt/conda/lib/python3.9/site-packages/click/core.py\", line 1161, in __call__\n",
      "    return self.main(*args, **kwargs)\n",
      "  File \"/opt/conda/lib/python3.9/site-packages/click/core.py\", line 1082, in main\n",
      "    rv = self.invoke(ctx)\n",
      "  File \"/opt/conda/lib/python3.9/site-packages/click/core.py\", line 1697, in invoke\n",
      "    return _process_result(sub_ctx.command.invoke(sub_ctx))\n",
      "  File \"/opt/conda/lib/python3.9/site-packages/click/core.py\", line 1697, in invoke\n",
      "    return _process_result(sub_ctx.command.invoke(sub_ctx))\n",
      "  File \"/opt/conda/lib/python3.9/site-packages/aiida/cmdline/groups/verdi.py\", line 117, in invoke\n",
      "    return ctx.invoke(self.callback, **ctx.params)\n",
      "  File \"/opt/conda/lib/python3.9/site-packages/click/core.py\", line 788, in invoke\n",
      "    return __callback(*args, **kwargs)\n",
      "  File \"/opt/conda/lib/python3.9/site-packages/aiida/cmdline/utils/decorators.py\", line 104, in wrapper\n",
      "    return wrapped(*args, **kwargs)\n",
      "  File \"/opt/conda/lib/python3.9/site-packages/aiida/cmdline/commands/cmd_computer.py\", line 448, in computer_list\n",
      "    echo.echo_formatted_list(computers, ['label'], sort=sort, highlight=highlight, hide=hide)\n",
      "  File \"/opt/conda/lib/python3.9/site-packages/aiida/cmdline/utils/echo.py\", line 225, in echo_formatted_list\n",
      "    echo(click.style(template.format(symbol='*', *values), fg=COLORS['highlight']))\n",
      "  File \"/opt/conda/lib/python3.9/site-packages/aiida/cmdline/utils/echo.py\", line 81, in echo\n",
      "    CMDLINE_LOGGER.report(message, extra={'nl': nl, 'err': err, 'prefix': False})\n",
      "  File \"/opt/conda/lib/python3.9/site-packages/aiida/common/log.py\", line 34, in report\n",
      "    self.log(LOG_LEVEL_REPORT, msg, *args, **kwargs)\n",
      "  File \"/opt/conda/lib/python3.9/logging/__init__.py\", line 1512, in log\n",
      "    self._log(level, msg, args, **kwargs)\n",
      "  File \"/opt/conda/lib/python3.9/logging/__init__.py\", line 1589, in _log\n",
      "    self.handle(record)\n",
      "  File \"/opt/conda/lib/python3.9/logging/__init__.py\", line 1599, in handle\n",
      "    self.callHandlers(record)\n",
      "  File \"/opt/conda/lib/python3.9/logging/__init__.py\", line 1661, in callHandlers\n",
      "    hdlr.handle(record)\n",
      "  File \"/opt/conda/lib/python3.9/logging/__init__.py\", line 952, in handle\n",
      "    self.emit(record)\n",
      "  File \"/opt/conda/lib/python3.9/site-packages/aiida/cmdline/utils/log.py\", line 40, in emit\n",
      "    self.handleError(record)\n",
      "Message: '\\x1b[22m\\x1b[32m* localhost\\x1b[0m\\x1b[0m'\n",
      "Arguments: ()\n",
      "Exception ignored in: <_io.TextIOWrapper name='<stdout>' mode='w' encoding='utf-8'>\n",
      "BrokenPipeError: [Errno 32] Broken pipe\n",
      "\n",
      "\n",
      "\n",
      "Success: Computer<40> daint.alps created\n",
      "Report: Note: before the computer can be used, it has to be configured with the command:\n",
      "Report:   verdi -p default computer configure core.ssh daint.alps\n",
      "\n",
      "\n",
      "Report: Configuring computer daint.alps for user aiida@localhost.\n",
      "Success: daint.alps successfully configured for aiida@localhost\n",
      "\n",
      "\n"
     ]
    }
   ],
   "source": [
    "local_commands=[config_command,relabel_command,hide_code_command,alps_setup_command,alps_config_command]\n",
    "for command in local_commands:\n",
    "    result = subprocess.run(command, shell=True, capture_output=True, text=True)\n",
    "    # Print the output\n",
    "    print(result.stdout)\n",
    "    print(result.stderr)"
   ]
  },
  {
   "cell_type": "markdown",
   "id": "f0753f74",
   "metadata": {},
   "source": [
    "## do first ssh connection"
   ]
  },
  {
   "cell_type": "code",
   "execution_count": 7,
   "id": "aeaab011",
   "metadata": {},
   "outputs": [
    {
     "name": "stdout",
     "output_type": "stream",
     "text": [
      "ssh to daint.alps.cscs.ch seems to work\n"
     ]
    }
   ],
   "source": [
    "ela = \"ela.cscs.ch\"\n",
    "daint = \"daint.alps.cscs.ch\"\n",
    "\n",
    "# check if ssh works\n",
    "scan_keys = False\n",
    "ssh_works = False\n",
    "result = subprocess.run(f\"ssh {daint} 'ls /users/{cscs_username}' \", shell=True, capture_output=True, text=True)\n",
    "if result.returncode !=0:\n",
    "    scan_keys = True\n",
    "else:\n",
    "    ssh_works = True\n",
    "\n",
    "# Loop over each host and add it to known_hosts\n",
    "if scan_keys:\n",
    "    print(f\"Adding {ela} to known_hosts...\")\n",
    "    ssh_keyscan_command = f\"ssh-keyscan -H {ela} >> ~/.ssh/known_hosts\"\n",
    "    result = subprocess.run(ssh_keyscan_command, shell=True, capture_output=True, text=True)\n",
    "    # Print output for debugging\n",
    "    print(\"STDOUT:\", result.stdout)\n",
    "    print(\"STDERR:\", result.stderr)\n",
    "\n",
    "    print(f\"Adding {daint} to known_hosts...\")\n",
    "    ssh_keyscan_command = f\"ssh {ela} ssh-keyscan -H {daint} >> ~/.ssh/known_hosts\"\n",
    "    result = subprocess.run(ssh_keyscan_command, shell=True, capture_output=True, text=True)\n",
    "    result = subprocess.run(ssh_keyscan_command, shell=True, capture_output=True, text=True)\n",
    "    # Print output for debugging\n",
    "    print(\"STDOUT:\", result.stdout)\n",
    "    print(\"STDERR:\", result.stderr)\n",
    "\n",
    "    # check if ssh works\n",
    "    result = subprocess.run(f\"ssh {daint} 'ls /users/{cscs_username}' \", shell=True, capture_output=True, text=True)\n",
    "    if result.returncode !=0:\n",
    "        print(f\"Ask for help, something in the ssh to {daint} connection is wrong\")\n",
    "    else:\n",
    "        ssh_works = True\n",
    "\n",
    "if ssh_works:\n",
    "    print(f\"ssh to {daint} seems to work\")\n"
   ]
  },
  {
   "cell_type": "markdown",
   "id": "54d4b58a",
   "metadata": {},
   "source": [
    "## setup codes"
   ]
  },
  {
   "cell_type": "code",
   "execution_count": 8,
   "id": "35b7cc6e",
   "metadata": {},
   "outputs": [
    {
     "name": "stdout",
     "output_type": "stream",
     "text": [
      "Success: Created InstalledCode<14412>\n",
      "\n",
      "\n",
      "Success: Created InstalledCode<14413>\n",
      "\n",
      "\n",
      "Success: Created InstalledCode<14414>\n",
      "\n",
      "\n",
      "Success: Created InstalledCode<14415>\n",
      "\n",
      "\n",
      "Success: Created InstalledCode<14416>\n",
      "\n",
      "\n",
      "Success: Created InstalledCode<14417>\n",
      "\n",
      "\n"
     ]
    }
   ],
   "source": [
    "for code in ['cp2k.yml','stm.yml','pw.yml','pp.yml','projwfc.yml','dos.yml']:\n",
    "    command = f\"verdi code create core.code.installed --config {code}\"\n",
    "    result = subprocess.run(command, shell=True, capture_output=True, text=True)\n",
    "    # Print the output\n",
    "    print(result.stdout)\n",
    "    print(result.stderr)\n",
    "    "
   ]
  },
  {
   "cell_type": "markdown",
   "id": "ea0e3618",
   "metadata": {},
   "source": [
    "## creating directories on daint"
   ]
  },
  {
   "cell_type": "code",
   "execution_count": null,
   "id": "86ead21e",
   "metadata": {},
   "outputs": [],
   "source": [
    "remote_commands = [, f\"cd /users/{cscs_username}/src && git clone {repo_url}\"]"
   ]
  },
  {
   "cell_type": "code",
   "execution_count": null,
   "id": "5dca14c0",
   "metadata": {},
   "outputs": [],
   "source": [
    "for command in remote_commands:\n",
    "    ssh_command = f\"ssh {remotehost} '{command}'\"\n",
    "    result = subprocess.run(ssh_command, shell=True, capture_output=True, text=True)\n",
    "    # Print the output\n",
    "    print(result.stdout)\n",
    "    print(result.stderr)"
   ]
  },
  {
   "cell_type": "markdown",
   "id": "53756b2f",
   "metadata": {},
   "source": [
    "## copying scripts and data directories"
   ]
  },
  {
   "cell_type": "code",
   "execution_count": null,
   "id": "f102c457",
   "metadata": {},
   "outputs": [],
   "source": [
    "# Paths on the remote host\n",
    "remotehost='daint.alps.cscs.ch'\n",
    "\n",
    "# Define the remote command\n",
    "uenv_command = \"uenv repo create\"\n",
    "pull_cp2k = \"uenv image pull cp2k/2024.3:v2\"\n",
    "pull_qe = \"uenv image pull quantumespresso/v7.4:v2\"\n",
    "pull_stm = \"uenv image pull service::cp2k-spm-tools/1.5.0:1658742098\"\n",
    "make_src = f\"mkdir -p /users/{cscs_username}/src\"\n",
    "scp_mps = f\"scp {alps_files}/mps-wrapper.sh {remotehost}:/users/{cscs_username}/bin/\"\n",
    "scp_cp2kdatadir = f\"scp {alps_files}/cp2k {remotehost}:/users/{cscs_username}/src/\"\n",
    "\n",
    "\n",
    "ssh_commands = [pull_cp2k,pull_qe,pull_stm,make_src]\n",
    "scp_commands = [scp_mps,scp_cp2kdatadir]\n",
    "\n",
    "\n",
    "# Construct the SSH command\n",
    "for command in ssh_commands:\n",
    "    ssh_command = f\"ssh {remotehost} '{command}'\"\n",
    "    result = subprocess.run(ssh_command, shell=True, capture_output=True, text=True)\n",
    "for command in scp_commands:\n",
    "    result = subprocess.run(command, shell=True, capture_output=True, text=True)\n",
    "\n",
    "ssh_commands = []\n",
    "\n",
    "# Execute the command\n",
    "\n",
    "\n",
    "# Print the output\n",
    "print(\"STDOUT:\", result.stdout)\n",
    "print(\"STDERR:\", result.stderr)\n"
   ]
  },
  {
   "cell_type": "code",
   "execution_count": null,
   "id": "01e1fbd5",
   "metadata": {},
   "outputs": [],
   "source": []
  }
 ],
 "metadata": {
  "kernelspec": {
   "display_name": "Python 3 (ipykernel)",
   "language": "python",
   "name": "python3"
  },
  "language_info": {
   "codemirror_mode": {
    "name": "ipython",
    "version": 3
   },
   "file_extension": ".py",
   "mimetype": "text/x-python",
   "name": "python",
   "nbconvert_exporter": "python",
   "pygments_lexer": "ipython3",
   "version": "3.9.13"
  }
 },
 "nbformat": 4,
 "nbformat_minor": 5
}
